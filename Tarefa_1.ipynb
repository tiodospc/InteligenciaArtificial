{
  "nbformat": 4,
  "nbformat_minor": 0,
  "metadata": {
    "colab": {
      "name": "Tarefa 1.ipynb",
      "provenance": [],
      "collapsed_sections": [],
      "authorship_tag": "ABX9TyPIUSYYAAaU2VqShq9Hqemo",
      "include_colab_link": true
    },
    "kernelspec": {
      "name": "python3",
      "display_name": "Python 3"
    }
  },
  "cells": [
    {
      "cell_type": "markdown",
      "metadata": {
        "id": "view-in-github",
        "colab_type": "text"
      },
      "source": [
        "<a href=\"https://colab.research.google.com/github/tiodospc/InteligenciaArtificial/blob/master/Tarefa_1.ipynb\" target=\"_parent\"><img src=\"https://colab.research.google.com/assets/colab-badge.svg\" alt=\"Open In Colab\"/></a>"
      ]
    },
    {
      "cell_type": "code",
      "metadata": {
        "colab": {
          "base_uri": "https://localhost:8080/"
        },
        "id": "4R2_aSLc6mdD",
        "outputId": "9a5e64cf-3ee7-48cc-a831-c9b9eb7f0048"
      },
      "source": [
        "import numpy as np\r\n",
        "import math\r\n",
        "\r\n",
        "def sigmoid(x):\r\n",
        "    return 1 / (1 + math.exp(-x))\r\n",
        "    pass\r\n",
        "\r\n",
        "inputs = np.array([0.7, -0.3])\r\n",
        "weights = np.array([0.1, 0.8])\r\n",
        "bias = -0.1\r\n",
        "\r\n",
        "output = sigmoid(np.dot(inputs, weights))+bias\r\n",
        "\r\n",
        "print('Output: ')\r\n",
        "print(output)\r\n",
        "\r\n"
      ],
      "execution_count": 17,
      "outputs": [
        {
          "output_type": "stream",
          "text": [
            "Output: \n",
            "0.3576020592256489\n"
          ],
          "name": "stdout"
        }
      ]
    },
    {
      "cell_type": "code",
      "metadata": {
        "id": "ngHp3yCmIQNI"
      },
      "source": [
        ""
      ],
      "execution_count": null,
      "outputs": []
    },
    {
      "cell_type": "code",
      "metadata": {
        "id": "mdyV3NpwISme"
      },
      "source": [
        ""
      ],
      "execution_count": null,
      "outputs": []
    }
  ]
}